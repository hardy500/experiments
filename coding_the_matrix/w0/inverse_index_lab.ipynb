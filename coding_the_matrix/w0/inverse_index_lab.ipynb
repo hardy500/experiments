{
 "cells": [
  {
   "cell_type": "code",
   "execution_count": 30,
   "id": "03759aa9",
   "metadata": {},
   "outputs": [],
   "source": [
    "import math\n",
    "from random import randint"
   ]
  },
  {
   "cell_type": "code",
   "execution_count": 60,
   "id": "c83338f7",
   "metadata": {},
   "outputs": [],
   "source": [
    "name = \"Mongo\"\n",
    "def review(name):\n",
    "  movie_reviews = ['See it!', 'A gem!', 'Ideological claptrapl!']\n",
    "  return movie_reviews[randint(0, len(movie_reviews)-1)]"
   ]
  },
  {
   "cell_type": "code",
   "execution_count": 38,
   "id": "448f76a6",
   "metadata": {},
   "outputs": [],
   "source": [
    "def makeInverseIndex(strlist):\n",
    "  words = set(word for sentence in strlist for word in sentence.split())\n",
    "  d = {w:set() for w in words}\n",
    "  for k in d:\n",
    "    d[k] = set(idx for idx, sentence in enumerate(strlist) if k in sentence.split())\n",
    "  return d"
   ]
  },
  {
   "cell_type": "code",
   "execution_count": 180,
   "id": "a9093557",
   "metadata": {},
   "outputs": [],
   "source": [
    "def orSearch(inserse_idx, query):\n",
    "  out = set()\n",
    "  for word in query:\n",
    "    out |= idx[word]\n",
    "  return out\n",
    "\n",
    "def andSearch(idx, query):\n",
    "  out = set(idx[query[0]])\n",
    "  for i in query:\n",
    "    out &= idx[i]\n",
    "  return out"
   ]
  },
  {
   "cell_type": "code",
   "execution_count": 176,
   "id": "3175f6b4",
   "metadata": {},
   "outputs": [],
   "source": [
    "idx = makeInverseIndex(['Johann Sebastian Bach', 'Johannes Brahms', 'Johann Strauss the Younger', 'Johann Strauss the Elder', ' Johann Christian Bach',  'Carl Philipp Emanuel Bach'])\n",
    "query = ['Johann', 'the']"
   ]
  },
  {
   "cell_type": "code",
   "execution_count": 181,
   "id": "cfe6fae0",
   "metadata": {},
   "outputs": [
    {
     "data": {
      "text/plain": [
       "{2, 3}"
      ]
     },
     "execution_count": 181,
     "metadata": {},
     "output_type": "execute_result"
    }
   ],
   "source": [
    "andSearch(idx, query)"
   ]
  },
  {
   "cell_type": "code",
   "execution_count": null,
   "id": "9f71b7fc",
   "metadata": {},
   "outputs": [],
   "source": [
    "{for i in query}"
   ]
  },
  {
   "cell_type": "code",
   "execution_count": null,
   "id": "3af2f5d3",
   "metadata": {},
   "outputs": [],
   "source": []
  },
  {
   "cell_type": "code",
   "execution_count": null,
   "id": "0d81fd3c",
   "metadata": {},
   "outputs": [],
   "source": []
  },
  {
   "cell_type": "code",
   "execution_count": null,
   "id": "9157c7f1",
   "metadata": {},
   "outputs": [],
   "source": []
  },
  {
   "cell_type": "code",
   "execution_count": null,
   "id": "4481cc16",
   "metadata": {},
   "outputs": [],
   "source": []
  },
  {
   "cell_type": "code",
   "execution_count": null,
   "id": "f616d55f",
   "metadata": {},
   "outputs": [],
   "source": []
  },
  {
   "cell_type": "code",
   "execution_count": null,
   "id": "4958273f",
   "metadata": {},
   "outputs": [],
   "source": []
  },
  {
   "cell_type": "code",
   "execution_count": null,
   "id": "af26a330",
   "metadata": {},
   "outputs": [],
   "source": []
  }
 ],
 "metadata": {
  "kernelspec": {
   "display_name": "Python 3",
   "language": "python",
   "name": "python3"
  },
  "language_info": {
   "codemirror_mode": {
    "name": "ipython",
    "version": 3
   },
   "file_extension": ".py",
   "mimetype": "text/x-python",
   "name": "python",
   "nbconvert_exporter": "python",
   "pygments_lexer": "ipython3",
   "version": "3.10.2"
  }
 },
 "nbformat": 4,
 "nbformat_minor": 5
}
