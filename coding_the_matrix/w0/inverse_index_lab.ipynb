{
 "cells": [
  {
   "cell_type": "code",
   "execution_count": 30,
   "id": "03759aa9",
   "metadata": {},
   "outputs": [],
   "source": [
    "import math\n",
    "from random import randint"
   ]
  },
  {
   "cell_type": "code",
   "execution_count": 60,
   "id": "c83338f7",
   "metadata": {},
   "outputs": [],
   "source": [
    "name = \"Mongo\"\n",
    "def review(name):\n",
    "  movie_reviews = ['See it!', 'A gem!', 'Ideological claptrapl!']\n",
    "  return movie_reviews[randint(0, len(movie_reviews)-1)]"
   ]
  },
  {
   "cell_type": "code",
   "execution_count": 355,
   "id": "448f76a6",
   "metadata": {},
   "outputs": [
    {
     "data": {
      "text/plain": [
       "{'did': {2},\n",
       " 'here': {1},\n",
       " 'fish': {1},\n",
       " 'NOW': {0},\n",
       " 'how': {0},\n",
       " 'is': {0, 1},\n",
       " 'in': {1, 2},\n",
       " 'said': {1},\n",
       " 'house': {2},\n",
       " 'when': {1},\n",
       " 'cold,': {2},\n",
       " 'fun': {0},\n",
       " 'be': {1},\n",
       " 'to': {0, 2},\n",
       " 'we': {2},\n",
       " 'sat': {2},\n",
       " 'It': {0, 2},\n",
       " 'was': {2},\n",
       " 'should': {1},\n",
       " 'The': {2},\n",
       " 'Look': {0},\n",
       " 'shine': {2},\n",
       " 'not': {1, 2},\n",
       " 'have': {0},\n",
       " 'He': {1},\n",
       " '.': {0, 1, 2},\n",
       " '!': {0},\n",
       " 'you': {0},\n",
       " 'All': {2},\n",
       " 'know': {0},\n",
       " 'your': {1},\n",
       " 'too': {2},\n",
       " 'So': {2},\n",
       " 'day': {2},\n",
       " 'the': {1, 2},\n",
       " 'sun': {2},\n",
       " 'wet': {2},\n",
       " 'but': {0},\n",
       " 'pot': {1},\n",
       " 'me': {0},\n",
       " ',': {1},\n",
       " 'mother': {1},\n",
       " 'at': {0},\n",
       " 'play': {2},\n",
       " 'that': {2}}"
      ]
     },
     "execution_count": 355,
     "metadata": {},
     "output_type": "execute_result"
    }
   ],
   "source": [
    "def makeInverseIndex(strlist):\n",
    "  words = set(word for sentence in strlist for word in sentence.split())\n",
    "  d = {w:set() for w in words}\n",
    "  for k in d:\n",
    "    d[k] = set(idx for idx, sentence in enumerate(strlist) if k in sentence.split())\n",
    "  return d\n",
    "\n",
    "strlist = [\"Look at me ! Look at me ! Look at me NOW ! It is fun to have fun but you have to know how .\" ,\n",
    "\"He should not be here ,  said the fish in the pot .  He should not be here when your mother is not .\",\n",
    "\"The sun did not shine . It was too wet to play . So we sat in the house . All that cold, cold, wet day .\"]\n",
    "\n",
    "makeInverseIndex(strlist)"
   ]
  },
  {
   "cell_type": "code",
   "execution_count": null,
   "id": "a9093557",
   "metadata": {},
   "outputs": [],
   "source": []
  },
  {
   "cell_type": "code",
   "execution_count": null,
   "id": "23d808ac",
   "metadata": {},
   "outputs": [],
   "source": []
  },
  {
   "cell_type": "code",
   "execution_count": null,
   "id": "e2037bb0",
   "metadata": {},
   "outputs": [],
   "source": []
  },
  {
   "cell_type": "code",
   "execution_count": null,
   "id": "801a2130",
   "metadata": {},
   "outputs": [],
   "source": []
  },
  {
   "cell_type": "code",
   "execution_count": null,
   "id": "c64c4f16",
   "metadata": {},
   "outputs": [],
   "source": []
  },
  {
   "cell_type": "code",
   "execution_count": null,
   "id": "d9c1ee13",
   "metadata": {},
   "outputs": [],
   "source": []
  },
  {
   "cell_type": "code",
   "execution_count": null,
   "id": "4ebe57f6",
   "metadata": {},
   "outputs": [],
   "source": []
  },
  {
   "cell_type": "code",
   "execution_count": null,
   "id": "fc24ff6a",
   "metadata": {},
   "outputs": [],
   "source": []
  },
  {
   "cell_type": "code",
   "execution_count": null,
   "id": "af2b3c5f",
   "metadata": {},
   "outputs": [],
   "source": []
  },
  {
   "cell_type": "code",
   "execution_count": null,
   "id": "c4266d13",
   "metadata": {},
   "outputs": [],
   "source": []
  },
  {
   "cell_type": "code",
   "execution_count": null,
   "id": "49ae8447",
   "metadata": {},
   "outputs": [],
   "source": []
  },
  {
   "cell_type": "code",
   "execution_count": null,
   "id": "bb5c7043",
   "metadata": {},
   "outputs": [],
   "source": []
  },
  {
   "cell_type": "code",
   "execution_count": null,
   "id": "37beacb2",
   "metadata": {},
   "outputs": [],
   "source": []
  },
  {
   "cell_type": "code",
   "execution_count": null,
   "id": "84e981b3",
   "metadata": {},
   "outputs": [],
   "source": []
  },
  {
   "cell_type": "code",
   "execution_count": null,
   "id": "3175f6b4",
   "metadata": {},
   "outputs": [],
   "source": []
  },
  {
   "cell_type": "code",
   "execution_count": null,
   "id": "0d81fd3c",
   "metadata": {},
   "outputs": [],
   "source": []
  },
  {
   "cell_type": "code",
   "execution_count": null,
   "id": "9157c7f1",
   "metadata": {},
   "outputs": [],
   "source": []
  },
  {
   "cell_type": "code",
   "execution_count": null,
   "id": "4481cc16",
   "metadata": {},
   "outputs": [],
   "source": []
  },
  {
   "cell_type": "code",
   "execution_count": null,
   "id": "f616d55f",
   "metadata": {},
   "outputs": [],
   "source": []
  },
  {
   "cell_type": "code",
   "execution_count": null,
   "id": "4958273f",
   "metadata": {},
   "outputs": [],
   "source": []
  },
  {
   "cell_type": "code",
   "execution_count": null,
   "id": "af26a330",
   "metadata": {},
   "outputs": [],
   "source": []
  }
 ],
 "metadata": {
  "kernelspec": {
   "display_name": "Python 3",
   "language": "python",
   "name": "python3"
  },
  "language_info": {
   "codemirror_mode": {
    "name": "ipython",
    "version": 3
   },
   "file_extension": ".py",
   "mimetype": "text/x-python",
   "name": "python",
   "nbconvert_exporter": "python",
   "pygments_lexer": "ipython3",
   "version": "3.10.2"
  }
 },
 "nbformat": 4,
 "nbformat_minor": 5
}
