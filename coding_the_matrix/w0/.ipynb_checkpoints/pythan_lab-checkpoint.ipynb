{
 "cells": [
  {
   "cell_type": "code",
   "execution_count": 82,
   "id": "80e87c08",
   "metadata": {},
   "outputs": [
    {
     "data": {
      "text/plain": [
       "{3, 4}"
      ]
     },
     "execution_count": 82,
     "metadata": {},
     "output_type": "execute_result"
    }
   ],
   "source": [
    "# Task 1: \n",
    "minutes_in_week = 60*24*7\n",
    "\n",
    "# Task 2: \n",
    "remainder = 2304811 - 2304811//47 * 47\n",
    "\n",
    "# Task 3: \n",
    "div_by_three = (673%3 == 0) and (909%3==0)\n",
    "\n",
    "# Task 4: \n",
    "x, y = -9, 1/2\n",
    "2**(y+1/2) if x+10 < 0 else 2**(y-1/2)\n",
    "\n",
    "# Task 5:\n",
    "{x**2 for x in {1, 2, 3, 4, 5}}\n",
    "\n",
    "# Task 6:\n",
    "{2**x for x in {0, 1, 2, 3, 4}}\n",
    "\n",
    "# Task 7:\n",
    "{x*y for x in {1,2,3} for y in {5,6,7}}\n",
    "\n",
    "# Task 8:\n",
    "{x*y for x in {1,2,4} for y in {0,8,16}}\n",
    "\n",
    "# Task 9:\n",
    "S, T = {1,2,3,4}, {3,4,5,6}\n",
    "{s for s in S if s in T}"
   ]
  },
  {
   "cell_type": "code",
   "execution_count": 101,
   "id": "41e6cec7",
   "metadata": {},
   "outputs": [
    {
     "data": {
      "text/plain": [
       "16.1"
      ]
     },
     "execution_count": 101,
     "metadata": {},
     "output_type": "execute_result"
    }
   ],
   "source": [
    "# Task 10: \n",
    "lst = [20, 10, 15, 75]\n",
    "n_lst = len(lst)\n",
    "sum(lst)/n_lst\n",
    "\n",
    "# Task 11:\n",
    "A, B = ['A', 'B', 'C'], [1, 2, 3]\n",
    "[[l, n] for l in A for n in B]\n",
    "\n",
    "# Task 12:\n",
    "LofL = [[.25, .75, .1], [-1, 0], [4, 4, 4, 4]]\n",
    "sum([sum(l) for l in LofL])"
   ]
  },
  {
   "cell_type": "code",
   "execution_count": 105,
   "id": "20415bca",
   "metadata": {},
   "outputs": [
    {
     "data": {
      "text/plain": [
       "[(1, 1, -2), (1, -2, 1), (2, 2, -4), (2, -4, 2), (-4, 2, 2), (-2, 1, 1)]"
      ]
     },
     "execution_count": 105,
     "metadata": {},
     "output_type": "execute_result"
    }
   ],
   "source": [
    "# Task 13:\n",
    "S = {-4, -2, 1, 2, 5, 0}\n",
    "[ (i, j, k)\n",
    "  for i in S\n",
    "  for j in S\n",
    "  for k in S\n",
    "  if sum([i, j, k]) == 0\n",
    "]\n",
    "\n",
    "# no zero\n",
    "[ (i, j, k)\n",
    "  for i in S\n",
    "  for j in S\n",
    "  for k in S\n",
    "  if sum([i, j, k]) == 0 and (0 not in [i,j,k])\n",
    "]"
   ]
  },
  {
   "cell_type": "code",
   "execution_count": 111,
   "id": "bd5ac0a6",
   "metadata": {},
   "outputs": [
    {
     "data": {
      "text/plain": [
       "1"
      ]
     },
     "execution_count": 111,
     "metadata": {},
     "output_type": "execute_result"
    }
   ],
   "source": [
    "# Task 16:\n",
    "len(set([3, 3, 3]))"
   ]
  },
  {
   "cell_type": "code",
   "execution_count": 120,
   "id": "cfcf34b7",
   "metadata": {
    "scrolled": true
   },
   "outputs": [
    {
     "data": {
      "text/plain": [
       "[1,\n",
       " 3,\n",
       " 5,\n",
       " 7,\n",
       " 9,\n",
       " 11,\n",
       " 13,\n",
       " 15,\n",
       " 17,\n",
       " 19,\n",
       " 21,\n",
       " 23,\n",
       " 25,\n",
       " 27,\n",
       " 29,\n",
       " 31,\n",
       " 33,\n",
       " 35,\n",
       " 37,\n",
       " 39,\n",
       " 41,\n",
       " 43,\n",
       " 45,\n",
       " 47,\n",
       " 49,\n",
       " 51,\n",
       " 53,\n",
       " 55,\n",
       " 57,\n",
       " 59,\n",
       " 61,\n",
       " 63,\n",
       " 65,\n",
       " 67,\n",
       " 69,\n",
       " 71,\n",
       " 73,\n",
       " 75,\n",
       " 77,\n",
       " 79,\n",
       " 81,\n",
       " 83,\n",
       " 85,\n",
       " 87,\n",
       " 89,\n",
       " 91,\n",
       " 93,\n",
       " 95,\n",
       " 97,\n",
       " 99]"
      ]
     },
     "execution_count": 120,
     "metadata": {},
     "output_type": "execute_result"
    }
   ],
   "source": [
    "# Task 17:\n",
    "[x for x in range(1,100,2)]"
   ]
  },
  {
   "cell_type": "code",
   "execution_count": 130,
   "id": "42449bb1",
   "metadata": {},
   "outputs": [
    {
     "data": {
      "text/plain": [
       "[11, 40, 60]"
      ]
     },
     "execution_count": 130,
     "metadata": {},
     "output_type": "execute_result"
    }
   ],
   "source": [
    "# Task 18:\n",
    "L = ['A', 'B', 'C', 'D', 'E']\n",
    "list(zip(range(len(L)), L))\n",
    "\n",
    "# Task 19:\n",
    "L, M = [10, 25, 40], [1, 15, 20]\n",
    "[sum(x) for x in list(zip(L, M))]"
   ]
  },
  {
   "cell_type": "code",
   "execution_count": 165,
   "id": "24ff2b19",
   "metadata": {},
   "outputs": [
    {
     "data": {
      "text/plain": [
       "['Elijah', 'NOT PRESENT']"
      ]
     },
     "execution_count": 165,
     "metadata": {},
     "output_type": "execute_result"
    }
   ],
   "source": [
    "# Task 20:\n",
    "dlist = [\n",
    "  {'James': 'Sean', 'director': 'Terence'}, \n",
    "  {'James':'Roger', 'director':'Lewis'},\n",
    "  {'James': 'Pierce','director': 'Roger'}\n",
    "]\n",
    "k = 'James'\n",
    "\n",
    "[dlist[i][k] for i in range(len(dlist))]\n",
    "\n",
    "# Task 21:\n",
    "\n",
    "dlist = [\n",
    "  {'Bilbo': 'Ian', 'Fredo': 'Elijah'}, \n",
    "  {'Bilbo':'Martin', 'Thorsin':'Richard'},\n",
    "]\n",
    "k = 'Fredo'\n",
    "\n",
    "[\n",
    "  dlist[i][k] if k in dlist[i].keys() else 'NOT PRESENT' \n",
    "  for i in range(len(dlist))\n",
    "]"
   ]
  },
  {
   "cell_type": "code",
   "execution_count": 166,
   "id": "774ae1ed",
   "metadata": {
    "scrolled": true
   },
   "outputs": [
    {
     "data": {
      "text/plain": [
       "{0: 0,\n",
       " 1: 1,\n",
       " 2: 4,\n",
       " 3: 9,\n",
       " 4: 16,\n",
       " 5: 25,\n",
       " 6: 36,\n",
       " 7: 49,\n",
       " 8: 64,\n",
       " 9: 81,\n",
       " 10: 100,\n",
       " 11: 121,\n",
       " 12: 144,\n",
       " 13: 169,\n",
       " 14: 196,\n",
       " 15: 225,\n",
       " 16: 256,\n",
       " 17: 289,\n",
       " 18: 324,\n",
       " 19: 361,\n",
       " 20: 400,\n",
       " 21: 441,\n",
       " 22: 484,\n",
       " 23: 529,\n",
       " 24: 576,\n",
       " 25: 625,\n",
       " 26: 676,\n",
       " 27: 729,\n",
       " 28: 784,\n",
       " 29: 841,\n",
       " 30: 900,\n",
       " 31: 961,\n",
       " 32: 1024,\n",
       " 33: 1089,\n",
       " 34: 1156,\n",
       " 35: 1225,\n",
       " 36: 1296,\n",
       " 37: 1369,\n",
       " 38: 1444,\n",
       " 39: 1521,\n",
       " 40: 1600,\n",
       " 41: 1681,\n",
       " 42: 1764,\n",
       " 43: 1849,\n",
       " 44: 1936,\n",
       " 45: 2025,\n",
       " 46: 2116,\n",
       " 47: 2209,\n",
       " 48: 2304,\n",
       " 49: 2401,\n",
       " 50: 2500,\n",
       " 51: 2601,\n",
       " 52: 2704,\n",
       " 53: 2809,\n",
       " 54: 2916,\n",
       " 55: 3025,\n",
       " 56: 3136,\n",
       " 57: 3249,\n",
       " 58: 3364,\n",
       " 59: 3481,\n",
       " 60: 3600,\n",
       " 61: 3721,\n",
       " 62: 3844,\n",
       " 63: 3969,\n",
       " 64: 4096,\n",
       " 65: 4225,\n",
       " 66: 4356,\n",
       " 67: 4489,\n",
       " 68: 4624,\n",
       " 69: 4761,\n",
       " 70: 4900,\n",
       " 71: 5041,\n",
       " 72: 5184,\n",
       " 73: 5329,\n",
       " 74: 5476,\n",
       " 75: 5625,\n",
       " 76: 5776,\n",
       " 77: 5929,\n",
       " 78: 6084,\n",
       " 79: 6241,\n",
       " 80: 6400,\n",
       " 81: 6561,\n",
       " 82: 6724,\n",
       " 83: 6889,\n",
       " 84: 7056,\n",
       " 85: 7225,\n",
       " 86: 7396,\n",
       " 87: 7569,\n",
       " 88: 7744,\n",
       " 89: 7921,\n",
       " 90: 8100,\n",
       " 91: 8281,\n",
       " 92: 8464,\n",
       " 93: 8649,\n",
       " 94: 8836,\n",
       " 95: 9025,\n",
       " 96: 9216,\n",
       " 97: 9409,\n",
       " 98: 9604}"
      ]
     },
     "execution_count": 166,
     "metadata": {},
     "output_type": "execute_result"
    }
   ],
   "source": [
    "# Task 22:\n",
    "{key:key**2 for key in range(99)}"
   ]
  },
  {
   "cell_type": "code",
   "execution_count": 184,
   "id": "5b771fb6",
   "metadata": {},
   "outputs": [
    {
     "data": {
      "text/plain": [
       "{'red': 'red', 'white': 'white', 'blue': 'blue'}"
      ]
     },
     "execution_count": 184,
     "metadata": {},
     "output_type": "execute_result"
    }
   ],
   "source": [
    "# Task 23:\n",
    "D = {'red', 'white', 'blue'}\n",
    "{key:key for key in D}\n"
   ]
  },
  {
   "cell_type": "code",
   "execution_count": 208,
   "id": "586eed00",
   "metadata": {},
   "outputs": [
    {
     "data": {
      "text/plain": [
       "{'Larry': 1000, 'Moe': 990, 'Curly': 1200.5}"
      ]
     },
     "execution_count": 208,
     "metadata": {},
     "output_type": "execute_result"
    }
   ],
   "source": [
    "# Task 25:\n",
    "id2salary = {0:1000, 3:990, 1:1200.5}\n",
    "names = ['Larry', 'Curly', '', 'Moe']\n",
    "{names[key]:id2salary[key] for key in id2salary.keys()}"
   ]
  },
  {
   "cell_type": "code",
   "execution_count": 238,
   "id": "253cc778",
   "metadata": {},
   "outputs": [],
   "source": [
    "# Task 26:\n",
    "def next_ints(L):\n",
    "  return [e+1 for e in L]\n",
    "\n",
    "# Task 27:\n",
    "def cubes(L):\n",
    "  return [l**3 for l in L]\n",
    "\n",
    "# Task 28:\n",
    "def dict2list(dct, keylist):\n",
    "  return [dct[k] for k in keylist]\n",
    "\n",
    "# Task 29:\n",
    "def list2dict(L, keylist):\n",
    "  return {k:v for k, v in zip(keylist, L)}\n",
    "\n",
    "L = ['A', 'B', 'C']\n",
    "keylist = ['a', 'b', 'c']"
   ]
  },
  {
   "cell_type": "code",
   "execution_count": null,
   "id": "11f1a591",
   "metadata": {},
   "outputs": [],
   "source": []
  },
  {
   "cell_type": "code",
   "execution_count": null,
   "id": "a16d5acc",
   "metadata": {},
   "outputs": [],
   "source": []
  },
  {
   "cell_type": "code",
   "execution_count": null,
   "id": "401a0616",
   "metadata": {},
   "outputs": [],
   "source": []
  },
  {
   "cell_type": "code",
   "execution_count": null,
   "id": "60830ba9",
   "metadata": {},
   "outputs": [],
   "source": []
  },
  {
   "cell_type": "code",
   "execution_count": null,
   "id": "2bfb258c",
   "metadata": {},
   "outputs": [],
   "source": []
  },
  {
   "cell_type": "code",
   "execution_count": null,
   "id": "b36a2b23",
   "metadata": {},
   "outputs": [],
   "source": []
  },
  {
   "cell_type": "code",
   "execution_count": null,
   "id": "9f4f60d7",
   "metadata": {},
   "outputs": [],
   "source": []
  },
  {
   "cell_type": "code",
   "execution_count": null,
   "id": "4822d9e1",
   "metadata": {},
   "outputs": [],
   "source": []
  },
  {
   "cell_type": "code",
   "execution_count": null,
   "id": "c57d760a",
   "metadata": {},
   "outputs": [],
   "source": []
  },
  {
   "cell_type": "code",
   "execution_count": null,
   "id": "ac393392",
   "metadata": {},
   "outputs": [],
   "source": []
  },
  {
   "cell_type": "code",
   "execution_count": null,
   "id": "62035644",
   "metadata": {},
   "outputs": [],
   "source": []
  },
  {
   "cell_type": "code",
   "execution_count": null,
   "id": "49806bb3",
   "metadata": {},
   "outputs": [],
   "source": []
  },
  {
   "cell_type": "code",
   "execution_count": null,
   "id": "29cde51a",
   "metadata": {},
   "outputs": [],
   "source": []
  },
  {
   "cell_type": "code",
   "execution_count": null,
   "id": "0d76cb37",
   "metadata": {},
   "outputs": [],
   "source": []
  },
  {
   "cell_type": "code",
   "execution_count": null,
   "id": "af34d056",
   "metadata": {},
   "outputs": [],
   "source": []
  },
  {
   "cell_type": "code",
   "execution_count": null,
   "id": "68769514",
   "metadata": {},
   "outputs": [],
   "source": []
  },
  {
   "cell_type": "code",
   "execution_count": null,
   "id": "bc271b74",
   "metadata": {},
   "outputs": [],
   "source": []
  },
  {
   "cell_type": "code",
   "execution_count": null,
   "id": "cdf15c25",
   "metadata": {},
   "outputs": [],
   "source": []
  },
  {
   "cell_type": "code",
   "execution_count": null,
   "id": "3feac187",
   "metadata": {},
   "outputs": [],
   "source": []
  },
  {
   "cell_type": "code",
   "execution_count": null,
   "id": "05f61ece",
   "metadata": {},
   "outputs": [],
   "source": []
  },
  {
   "cell_type": "code",
   "execution_count": null,
   "id": "588d5d1e",
   "metadata": {},
   "outputs": [],
   "source": []
  },
  {
   "cell_type": "code",
   "execution_count": null,
   "id": "1d5e12b8",
   "metadata": {},
   "outputs": [],
   "source": []
  },
  {
   "cell_type": "code",
   "execution_count": null,
   "id": "52109f61",
   "metadata": {},
   "outputs": [],
   "source": []
  },
  {
   "cell_type": "code",
   "execution_count": null,
   "id": "607a5a49",
   "metadata": {},
   "outputs": [],
   "source": []
  },
  {
   "cell_type": "code",
   "execution_count": null,
   "id": "f2dcdb27",
   "metadata": {},
   "outputs": [],
   "source": []
  },
  {
   "cell_type": "code",
   "execution_count": null,
   "id": "59dc3c55",
   "metadata": {},
   "outputs": [],
   "source": []
  },
  {
   "cell_type": "code",
   "execution_count": null,
   "id": "3d946ac9",
   "metadata": {},
   "outputs": [],
   "source": []
  }
 ],
 "metadata": {
  "kernelspec": {
   "display_name": "Python 3",
   "language": "python",
   "name": "python3"
  },
  "language_info": {
   "codemirror_mode": {
    "name": "ipython",
    "version": 3
   },
   "file_extension": ".py",
   "mimetype": "text/x-python",
   "name": "python",
   "nbconvert_exporter": "python",
   "pygments_lexer": "ipython3",
   "version": "3.10.2"
  }
 },
 "nbformat": 4,
 "nbformat_minor": 5
}
