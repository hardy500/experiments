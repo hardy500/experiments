{
 "cells": [
  {
   "cell_type": "code",
   "execution_count": 5,
   "id": "a8c2d29e",
   "metadata": {},
   "outputs": [
    {
     "data": {
      "text/plain": [
       "[1, 5, 7]"
      ]
     },
     "execution_count": 5,
     "metadata": {},
     "output_type": "execute_result"
    }
   ],
   "source": [
    "# Problem 1:\n",
    "def my_filter(L, num):\n",
    "  return [l for l in L if l % num !=0]\n",
    "\n",
    "L = [1,2,4,5,7]\n",
    "num = 2\n",
    "my_filter(L, num)"
   ]
  },
  {
   "cell_type": "code",
   "execution_count": 55,
   "id": "5c44caef",
   "metadata": {},
   "outputs": [
    {
     "data": {
      "text/plain": [
       "[[1], [1, 2], [1, 2, 3, 4]]"
      ]
     },
     "execution_count": 55,
     "metadata": {},
     "output_type": "execute_result"
    }
   ],
   "source": [
    "# Problem 2:\n",
    "def my_list(L):\n",
    "  return [list(i) for i in [range(1,i+1) for i in L]]\n",
    "          \n",
    "L = [1, 2, 4]\n",
    "my_list(L)"
   ]
  },
  {
   "cell_type": "code",
   "execution_count": 71,
   "id": "9668c8ce",
   "metadata": {},
   "outputs": [
    {
     "data": {
      "text/plain": [
       "{0: 'apple', 1: 'banana'}"
      ]
     },
     "execution_count": 71,
     "metadata": {},
     "output_type": "execute_result"
    }
   ],
   "source": [
    "# Problem 3:\n",
    "def my_func_composition(f, g):\n",
    "  return {k:v for k, v in zip(f.keys(), g.values())}\n",
    "\n",
    "f = {0:'a', 1:'b'}\n",
    "g = {'a':'apple', 'b':'banana'}\n",
    "my_func_composition(f, g)"
   ]
  },
  {
   "cell_type": "code",
   "execution_count": 90,
   "id": "0e8a9ac4",
   "metadata": {},
   "outputs": [],
   "source": [
    "# Problem 4:\n",
    "def my_sum(L):\n",
    "  current = 0\n",
    "  for x in L:\n",
    "    current += x\n",
    "  return current\n",
    "\n",
    "# Problem 5:\n",
    "def my_product(L):\n",
    "  current = 1\n",
    "  for x in L:\n",
    "    current *= x\n",
    "  return current\n",
    "\n",
    "# Problem 6:\n",
    "def my_min(L):\n",
    "  current = L[0]\n",
    "  for i in L:\n",
    "    if i < current:\n",
    "      current = i\n",
    "  return current \n",
    "\n",
    "# Problem 7:\n",
    "def my_concat(L):\n",
    "  current = ''\n",
    "  for i in L:\n",
    "    current += i\n",
    "  return current\n",
    "\n",
    "# Problem 8:\n",
    "def my_union(L):\n",
    "  current = set()\n",
    "  for i in L:\n",
    "    current |= i\n",
    "  return current\n",
    "  "
   ]
  },
  {
   "cell_type": "code",
   "execution_count": 99,
   "id": "ec84fd09",
   "metadata": {},
   "outputs": [],
   "source": [
    "# Problem 9:\n",
    "a = (3 + 1j) + (2 + 2j)\n",
    "b = (-1 + 2j) + (1 - 1j)\n",
    "c = (2 + 0j) + (-3 + .001j)\n",
    "d = 4*(0+2j) + (.001 + 1j)"
   ]
  },
  {
   "cell_type": "code",
   "execution_count": 101,
   "id": "13885258",
   "metadata": {},
   "outputs": [],
   "source": [
    "import matplotlib.pyplot as plt"
   ]
  },
  {
   "cell_type": "code",
   "execution_count": 117,
   "id": "7bb2bd09",
   "metadata": {},
   "outputs": [
    {
     "data": {
      "image/png": "[encoded data removed]",
      "text/plain": [
       "<Figure size 640x480 with 1 Axes>"
      ]
     },
     "metadata": {},
     "output_type": "display_data"
    }
   ],
   "source": [
    "a, b = 10+2j, 3+3j\n",
    "L = [complex(x, y) for x in range(5) for y in range(5)]\n",
    "\n",
    "ret = [a*z + b for z in L]\n",
    "\n",
    "plt.scatter([z.real for z in ret], [z.imag for z in ret]);"
   ]
  },
  {
   "cell_type": "code",
   "execution_count": null,
   "id": "90d15462",
   "metadata": {},
   "outputs": [],
   "source": []
  },
  {
   "cell_type": "code",
   "execution_count": null,
   "id": "ed93bb9c",
   "metadata": {},
   "outputs": [],
   "source": []
  },
  {
   "cell_type": "code",
   "execution_count": null,
   "id": "1a7f5b84",
   "metadata": {},
   "outputs": [],
   "source": []
  },
  {
   "cell_type": "code",
   "execution_count": null,
   "id": "b3c8207e",
   "metadata": {},
   "outputs": [],
   "source": []
  },
  {
   "cell_type": "code",
   "execution_count": null,
   "id": "42815a4d",
   "metadata": {},
   "outputs": [],
   "source": []
  },
  {
   "cell_type": "code",
   "execution_count": null,
   "id": "91d3b747",
   "metadata": {},
   "outputs": [],
   "source": []
  },
  {
   "cell_type": "code",
   "execution_count": null,
   "id": "7e36dc27",
   "metadata": {},
   "outputs": [],
   "source": []
  },
  {
   "cell_type": "code",
   "execution_count": null,
   "id": "635bdd0b",
   "metadata": {},
   "outputs": [],
   "source": []
  },
  {
   "cell_type": "code",
   "execution_count": null,
   "id": "dc6a901c",
   "metadata": {},
   "outputs": [],
   "source": []
  },
  {
   "cell_type": "code",
   "execution_count": null,
   "id": "32158501",
   "metadata": {},
   "outputs": [],
   "source": []
  },
  {
   "cell_type": "code",
   "execution_count": null,
   "id": "2abd283e",
   "metadata": {},
   "outputs": [],
   "source": []
  },
  {
   "cell_type": "code",
   "execution_count": null,
   "id": "baac13cb",
   "metadata": {},
   "outputs": [],
   "source": []
  },
  {
   "cell_type": "code",
   "execution_count": null,
   "id": "ba611cc7",
   "metadata": {},
   "outputs": [],
   "source": []
  },
  {
   "cell_type": "code",
   "execution_count": null,
   "id": "d0e45420",
   "metadata": {},
   "outputs": [],
   "source": []
  },
  {
   "cell_type": "code",
   "execution_count": null,
   "id": "481a533d",
   "metadata": {},
   "outputs": [],
   "source": []
  },
  {
   "cell_type": "code",
   "execution_count": null,
   "id": "6747f9c7",
   "metadata": {},
   "outputs": [],
   "source": []
  },
  {
   "cell_type": "code",
   "execution_count": null,
   "id": "4d2269ca",
   "metadata": {},
   "outputs": [],
   "source": []
  },
  {
   "cell_type": "code",
   "execution_count": null,
   "id": "3de7357d",
   "metadata": {},
   "outputs": [],
   "source": []
  },
  {
   "cell_type": "code",
   "execution_count": null,
   "id": "b150907e",
   "metadata": {},
   "outputs": [],
   "source": []
  },
  {
   "cell_type": "code",
   "execution_count": null,
   "id": "6b785b75",
   "metadata": {},
   "outputs": [],
   "source": []
  },
  {
   "cell_type": "code",
   "execution_count": null,
   "id": "d535d483",
   "metadata": {},
   "outputs": [],
   "source": []
  },
  {
   "cell_type": "code",
   "execution_count": null,
   "id": "6e19265d",
   "metadata": {},
   "outputs": [],
   "source": []
  },
  {
   "cell_type": "code",
   "execution_count": null,
   "id": "214ca190",
   "metadata": {},
   "outputs": [],
   "source": []
  },
  {
   "cell_type": "code",
   "execution_count": null,
   "id": "5fa1e679",
   "metadata": {},
   "outputs": [],
   "source": []
  },
  {
   "cell_type": "code",
   "execution_count": null,
   "id": "a4622e4e",
   "metadata": {},
   "outputs": [],
   "source": []
  },
  {
   "cell_type": "code",
   "execution_count": null,
   "id": "422c9c68",
   "metadata": {},
   "outputs": [],
   "source": []
  },
  {
   "cell_type": "code",
   "execution_count": null,
   "id": "d681e73e",
   "metadata": {},
   "outputs": [],
   "source": []
  },
  {
   "cell_type": "code",
   "execution_count": null,
   "id": "6b8f257d",
   "metadata": {},
   "outputs": [],
   "source": []
  }
 ],
 "metadata": {
  "kernelspec": {
   "display_name": "Python 3",
   "language": "python",
   "name": "python3"
  },
  "language_info": {
   "codemirror_mode": {
    "name": "ipython",
    "version": 3
   },
   "file_extension": ".py",
   "mimetype": "text/x-python",
   "name": "python",
   "nbconvert_exporter": "python",
   "pygments_lexer": "ipython3",
   "version": "3.10.2"
  }
 },
 "nbformat": 4,
 "nbformat_minor": 5
}
