{
 "cells": [
  {
   "cell_type": "code",
   "execution_count": 56,
   "id": "fa45d8b2",
   "metadata": {},
   "outputs": [],
   "source": [
    "import numpy as np"
   ]
  },
  {
   "cell_type": "code",
   "execution_count": 69,
   "id": "47883b37",
   "metadata": {},
   "outputs": [],
   "source": [
    "add = lambda v, u, sv=1, su=1: [sv*i+su*j for i, j in zip(v, u)]\n",
    "sub = lambda v, u, sv=1, su=1: [sv*i-su*j for i, j in zip(v, u)]\n",
    "mul = lambda v, u=np.ones(len(v)), sv=1, su=1: [sv*i*su*j for i, j in zip(v, u)]\n",
    "dot = lambda v, u=np.ones(len(v)), sv=1, su=1: sum([sv*i*su*j for i, j in zip(v, u)])"
   ]
  },
  {
   "cell_type": "code",
   "execution_count": 45,
   "id": "7f4e264d",
   "metadata": {},
   "outputs": [
    {
     "name": "stdout",
     "output_type": "stream",
     "text": [
      "[-1, 7]\n",
      "[-1, -1]\n",
      "[-3, 1]\n"
     ]
    }
   ],
   "source": [
    "# Problem 1:\n",
    "v, u = [-1, 3], [0, 4]\n",
    "\n",
    "# find v + u, v - u, and 3v - 2u\n",
    "\n",
    "print(add(v, u))\n",
    "print(sub(v, u))\n",
    "print(sub(v, u, 3, 2))"
   ]
  },
  {
   "cell_type": "code",
   "execution_count": 46,
   "id": "536689bd",
   "metadata": {},
   "outputs": [
    {
     "name": "stdout",
     "output_type": "stream",
     "text": [
      "[1, 0, 6]\n",
      "[3, -2, 4]\n",
      "[5, -3, 9]\n",
      "[0, 1, 7]\n"
     ]
    }
   ],
   "source": [
    "# Problem 2:\n",
    "v, u = [2, -1, 5], [-1, 1, 1]\n",
    "print(add(v, u))\n",
    "print(sub(v, u))\n",
    "print(sub(v, u, 2))\n",
    "print(add(v, u,1, 2))"
   ]
  },
  {
   "cell_type": "code",
   "execution_count": 67,
   "id": "62084710",
   "metadata": {},
   "outputs": [
    {
     "data": {
      "text/plain": [
       "[4.0, 6.0, -8.0]"
      ]
     },
     "execution_count": 67,
     "metadata": {},
     "output_type": "execute_result"
    }
   ],
   "source": [
    "# Problem 7\n",
    "v1 = [2, 3, -4, 1]\n",
    "v2 = [1, -5, 2, 0,]\n",
    "v3 = [4, 1, -1, -1]\n",
    "x = 2\n",
    "mul(v1, sv=x)"
   ]
  },
  {
   "cell_type": "code",
   "execution_count": 78,
   "id": "0db3c23d",
   "metadata": {},
   "outputs": [
    {
     "name": "stdout",
     "output_type": "stream",
     "text": [
      "5\n",
      "6\n",
      "16\n"
     ]
    }
   ],
   "source": [
    "# Problem 8\n",
    "u, v = [1, 0], [5, 4321]\n",
    "print(dot(u, v))\n",
    "\n",
    "u, v = [0, 1], [12345, 6]\n",
    "print(dot(u, v))\n",
    "\n",
    "u, v = [-1, 3], [5, 7]\n",
    "print(dot(u, v))"
   ]
  },
  {
   "cell_type": "code",
   "execution_count": null,
   "id": "55dd132c",
   "metadata": {},
   "outputs": [],
   "source": []
  },
  {
   "cell_type": "code",
   "execution_count": null,
   "id": "55791d53",
   "metadata": {},
   "outputs": [],
   "source": []
  },
  {
   "cell_type": "code",
   "execution_count": null,
   "id": "c3635c83",
   "metadata": {},
   "outputs": [],
   "source": []
  },
  {
   "cell_type": "code",
   "execution_count": null,
   "id": "b2275178",
   "metadata": {},
   "outputs": [],
   "source": []
  },
  {
   "cell_type": "code",
   "execution_count": null,
   "id": "adb0a70e",
   "metadata": {},
   "outputs": [],
   "source": []
  },
  {
   "cell_type": "code",
   "execution_count": null,
   "id": "275812b6",
   "metadata": {},
   "outputs": [],
   "source": []
  },
  {
   "cell_type": "code",
   "execution_count": null,
   "id": "7fb6cfda",
   "metadata": {},
   "outputs": [],
   "source": []
  },
  {
   "cell_type": "code",
   "execution_count": null,
   "id": "54a6bd66",
   "metadata": {},
   "outputs": [],
   "source": []
  },
  {
   "cell_type": "code",
   "execution_count": null,
   "id": "9f04394b",
   "metadata": {},
   "outputs": [],
   "source": []
  },
  {
   "cell_type": "code",
   "execution_count": null,
   "id": "d490fc86",
   "metadata": {},
   "outputs": [],
   "source": []
  },
  {
   "cell_type": "code",
   "execution_count": null,
   "id": "1d8b8c4b",
   "metadata": {},
   "outputs": [],
   "source": []
  },
  {
   "cell_type": "code",
   "execution_count": null,
   "id": "2d865bf2",
   "metadata": {},
   "outputs": [],
   "source": []
  },
  {
   "cell_type": "code",
   "execution_count": null,
   "id": "21ac1bf3",
   "metadata": {},
   "outputs": [],
   "source": []
  },
  {
   "cell_type": "code",
   "execution_count": null,
   "id": "c2cc06db",
   "metadata": {},
   "outputs": [],
   "source": []
  },
  {
   "cell_type": "code",
   "execution_count": null,
   "id": "448c1b4b",
   "metadata": {},
   "outputs": [],
   "source": []
  },
  {
   "cell_type": "code",
   "execution_count": null,
   "id": "67834ff7",
   "metadata": {},
   "outputs": [],
   "source": []
  },
  {
   "cell_type": "code",
   "execution_count": null,
   "id": "5db2f76c",
   "metadata": {},
   "outputs": [],
   "source": []
  },
  {
   "cell_type": "code",
   "execution_count": null,
   "id": "999bdf0b",
   "metadata": {},
   "outputs": [],
   "source": []
  },
  {
   "cell_type": "code",
   "execution_count": null,
   "id": "7b434a37",
   "metadata": {},
   "outputs": [],
   "source": []
  },
  {
   "cell_type": "code",
   "execution_count": null,
   "id": "2e2ddc4d",
   "metadata": {},
   "outputs": [],
   "source": []
  },
  {
   "cell_type": "code",
   "execution_count": null,
   "id": "9df873e4",
   "metadata": {},
   "outputs": [],
   "source": []
  },
  {
   "cell_type": "code",
   "execution_count": null,
   "id": "96be282c",
   "metadata": {},
   "outputs": [],
   "source": []
  },
  {
   "cell_type": "code",
   "execution_count": null,
   "id": "13ae8e30",
   "metadata": {},
   "outputs": [],
   "source": []
  },
  {
   "cell_type": "code",
   "execution_count": null,
   "id": "e7b0a3d2",
   "metadata": {},
   "outputs": [],
   "source": []
  },
  {
   "cell_type": "code",
   "execution_count": null,
   "id": "56707e24",
   "metadata": {},
   "outputs": [],
   "source": []
  },
  {
   "cell_type": "code",
   "execution_count": null,
   "id": "717941be",
   "metadata": {},
   "outputs": [],
   "source": []
  },
  {
   "cell_type": "code",
   "execution_count": null,
   "id": "b097583d",
   "metadata": {},
   "outputs": [],
   "source": []
  },
  {
   "cell_type": "code",
   "execution_count": null,
   "id": "29063ce6",
   "metadata": {},
   "outputs": [],
   "source": []
  },
  {
   "cell_type": "code",
   "execution_count": null,
   "id": "3408c723",
   "metadata": {},
   "outputs": [],
   "source": []
  }
 ],
 "metadata": {
  "kernelspec": {
   "display_name": "Python 3",
   "language": "python",
   "name": "python3"
  },
  "language_info": {
   "codemirror_mode": {
    "name": "ipython",
    "version": 3
   },
   "file_extension": ".py",
   "mimetype": "text/x-python",
   "name": "python",
   "nbconvert_exporter": "python",
   "pygments_lexer": "ipython3",
   "version": "3.10.2"
  }
 },
 "nbformat": 4,
 "nbformat_minor": 5
}
