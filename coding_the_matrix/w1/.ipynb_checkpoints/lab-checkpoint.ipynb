{
 "cells": [
  {
   "cell_type": "code",
   "execution_count": 96,
   "id": "b334b924",
   "metadata": {},
   "outputs": [],
   "source": [
    "with open('voting_record_dump109.txt') as f:\n",
    "  my_list = list(f)"
   ]
  },
  {
   "cell_type": "code",
   "execution_count": 97,
   "id": "3f44a596",
   "metadata": {},
   "outputs": [],
   "source": [
    "dot = lambda v, u: sum([i*j for i, j in zip(v,u)])"
   ]
  },
  {
   "cell_type": "code",
   "execution_count": 193,
   "id": "92c906b6",
   "metadata": {},
   "outputs": [],
   "source": [
    "def create_voting_dict(my_list):\n",
    "  return {i[0]:[int(j) for j in i[3:]] for i in [i.split() for i in my_list]}\n",
    "\n",
    "def policy_compare(sen_a, sen_b):\n",
    "  d = create_voting_dict(sen_a)\n",
    "  dd = create_voting_dict(sen_b)\n",
    "  return dot(d[sen_a[0]], dd[sen_b[0]])\n",
    "\n",
    "def most_similar(sen, voting):\n",
    "  hs = 0\n",
    "  name = None\n",
    "  for n in voting.keys():\n",
    "    if n != sen:\n",
    "      score = dot(voting[sen], voting[n])\n",
    "      if score > hs:\n",
    "        hs = score\n",
    "        name = n\n",
    "  return name\n",
    "\n",
    "def least_similar(sen, voting):\n",
    "  hs = 999\n",
    "  name = None\n",
    "  for n in voting.keys():\n",
    "    if n != sen:\n",
    "      score = dot(voting[sen], voting[n])\n",
    "      if score < hs:\n",
    "        hs = score\n",
    "        name = n\n",
    "  return name\n",
    "\n",
    "def avarage_sim(sen, sen_set, voting):\n",
    "  return sum([dot(voting[sen], voting[n]) for n in sen_set if n!=sen]) / len(sen_set)\n",
    "\n",
    "def find_avarage_record(sen_set, voting):\n",
    "  return [sum(voting[n])/len(sen_set) for n in sen_set]"
   ]
  },
  {
   "cell_type": "code",
   "execution_count": 172,
   "id": "4fb14867",
   "metadata": {},
   "outputs": [],
   "source": [
    "sen_a, sen_set = 'Akaka', ['Alexander', 'Sununu']"
   ]
  },
  {
   "cell_type": "code",
   "execution_count": 189,
   "id": "bd7152b6",
   "metadata": {},
   "outputs": [
    {
     "data": {
      "text/plain": [
       "6.0"
      ]
     },
     "execution_count": 189,
     "metadata": {},
     "output_type": "execute_result"
    }
   ],
   "source": [
    "avarage_sim(sen_a, sen_set, voting)"
   ]
  },
  {
   "cell_type": "code",
   "execution_count": null,
   "id": "b22cbf78",
   "metadata": {},
   "outputs": [],
   "source": []
  },
  {
   "cell_type": "code",
   "execution_count": null,
   "id": "f3d6f590",
   "metadata": {},
   "outputs": [],
   "source": []
  },
  {
   "cell_type": "code",
   "execution_count": null,
   "id": "73376010",
   "metadata": {},
   "outputs": [],
   "source": []
  },
  {
   "cell_type": "code",
   "execution_count": null,
   "id": "0ac8ce28",
   "metadata": {},
   "outputs": [],
   "source": []
  },
  {
   "cell_type": "code",
   "execution_count": null,
   "id": "8345e1c1",
   "metadata": {},
   "outputs": [],
   "source": []
  },
  {
   "cell_type": "code",
   "execution_count": null,
   "id": "80bef1de",
   "metadata": {},
   "outputs": [],
   "source": []
  },
  {
   "cell_type": "code",
   "execution_count": null,
   "id": "5001e3d4",
   "metadata": {},
   "outputs": [],
   "source": []
  },
  {
   "cell_type": "code",
   "execution_count": null,
   "id": "e54769ef",
   "metadata": {},
   "outputs": [],
   "source": []
  },
  {
   "cell_type": "code",
   "execution_count": null,
   "id": "9c8796a0",
   "metadata": {},
   "outputs": [],
   "source": []
  },
  {
   "cell_type": "code",
   "execution_count": null,
   "id": "6a155334",
   "metadata": {},
   "outputs": [],
   "source": []
  },
  {
   "cell_type": "code",
   "execution_count": null,
   "id": "438773ce",
   "metadata": {},
   "outputs": [],
   "source": []
  },
  {
   "cell_type": "code",
   "execution_count": null,
   "id": "07ce79d5",
   "metadata": {},
   "outputs": [],
   "source": []
  }
 ],
 "metadata": {
  "kernelspec": {
   "display_name": "Python 3",
   "language": "python",
   "name": "python3"
  },
  "language_info": {
   "codemirror_mode": {
    "name": "ipython",
    "version": 3
   },
   "file_extension": ".py",
   "mimetype": "text/x-python",
   "name": "python",
   "nbconvert_exporter": "python",
   "pygments_lexer": "ipython3",
   "version": "3.10.2"
  }
 },
 "nbformat": 4,
 "nbformat_minor": 5
}
