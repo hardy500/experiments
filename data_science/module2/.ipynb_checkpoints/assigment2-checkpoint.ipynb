{
 "cells": [
  {
   "cell_type": "code",
   "execution_count": 1,
   "id": "9db972d1",
   "metadata": {},
   "outputs": [],
   "source": [
    "import pandas as pd\n",
    "import matplotlib.pyplot as plt\n",
    "import seaborn as sns\n",
    "from scipy import stats"
   ]
  },
  {
   "cell_type": "code",
   "execution_count": 2,
   "id": "0d05231b",
   "metadata": {},
   "outputs": [],
   "source": [
    "df = pd.read_csv(\"assets/NISPUF17.csv\", index_col=0)"
   ]
  },
  {
   "cell_type": "code",
   "execution_count": 3,
   "id": "d7aef0e6",
   "metadata": {},
   "outputs": [
    {
     "data": {
      "text/plain": [
       "(28465, 453)"
      ]
     },
     "execution_count": 3,
     "metadata": {},
     "output_type": "execute_result"
    }
   ],
   "source": [
    "df.shape"
   ]
  },
  {
   "cell_type": "code",
   "execution_count": 4,
   "id": "45b28c5a",
   "metadata": {},
   "outputs": [
    {
     "data": {
      "text/plain": [
       "'\\n    {\"less than high school\":0.2,\\n     \"high school\":0.4,\\n     \"more than high school but not college\":0.2,\\n     \"college\":0.2}\\n'"
      ]
     },
     "execution_count": 4,
     "metadata": {},
     "output_type": "execute_result"
    }
   ],
   "source": [
    "##### Question 1 #####\n",
    "# returns the proportion of children in the dataset who had a mother with \n",
    "# the education levels equal to \n",
    "# - less than high school (<12)                             (1)\n",
    "# - high school (12)                                        (2)\n",
    "# - more than high school but not a college graduate (>12)  (3)\n",
    "# - and college degree.                                     (4)\n",
    "\"\"\"\n",
    "    {\"less than high school\":0.2,\n",
    "     \"high school\":0.4,\n",
    "     \"more than high school but not college\":0.2,\n",
    "     \"college\":0.2}\n",
    "\"\"\""
   ]
  },
  {
   "cell_type": "code",
   "execution_count": 5,
   "id": "56e0946b",
   "metadata": {},
   "outputs": [
    {
     "data": {
      "text/plain": [
       "array([4, 3, 1, 2])"
      ]
     },
     "execution_count": 5,
     "metadata": {},
     "output_type": "execute_result"
    }
   ],
   "source": [
    "df.EDUC1.unique()"
   ]
  },
  {
   "cell_type": "code",
   "execution_count": 6,
   "id": "21797b94",
   "metadata": {},
   "outputs": [],
   "source": [
    "def proportion_of_education():\n",
    "  n = len(df.EDUC1)\n",
    "  less_than_hs = (df.EDUC1 < 2).sum()/n\n",
    "  hs = (df.EDUC1 == 2).sum()/n\n",
    "  more_than_hs_less_than_college = (df.EDUC1 == 3).sum()/n\n",
    "  college = (df.EDUC1 == 4).sum()/n\n",
    "  \n",
    "  return {\n",
    "    'less than high school': less_than_hs,\n",
    "    'high school': hs,\n",
    "    'more than high school but not college': more_than_hs_less_than_college,\n",
    "    'college': college\n",
    "  }"
   ]
  },
  {
   "cell_type": "code",
   "execution_count": 7,
   "id": "a2a65c97",
   "metadata": {},
   "outputs": [
    {
     "data": {
      "text/plain": [
       "{'less than high school': 0.10202002459160373,\n",
       " 'high school': 0.172352011241876,\n",
       " 'more than high school but not college': 0.24588090637625154,\n",
       " 'college': 0.47974705779026877}"
      ]
     },
     "execution_count": 7,
     "metadata": {},
     "output_type": "execute_result"
    }
   ],
   "source": [
    "proportion_of_education()"
   ]
  },
  {
   "cell_type": "code",
   "execution_count": 8,
   "id": "af5f59f2",
   "metadata": {},
   "outputs": [],
   "source": [
    "assert type(proportion_of_education())==type({}), \"You must return a dictionary.\"\n",
    "assert len(proportion_of_education()) == 4, \"You have not returned a dictionary with four items in it.\"\n",
    "assert \"less than high school\" in proportion_of_education().keys(), \"You have not returned a dictionary with the correct keys.\"\n",
    "assert \"high school\" in proportion_of_education().keys(), \"You have not returned a dictionary with the correct keys.\"\n",
    "assert \"more than high school but not college\" in proportion_of_education().keys(), \"You have not returned a dictionary with the correct keys.\"\n",
    "assert \"college\" in proportion_of_education().keys(), \"You have not returned a dictionary with the correct keys.\""
   ]
  },
  {
   "cell_type": "code",
   "execution_count": 9,
   "id": "a8af3143",
   "metadata": {},
   "outputs": [],
   "source": [
    "##### Question 2 #####\n",
    "# explore the relationship between\n",
    "# - being fed breastmilk as a child                                         (1)\n",
    "# - and getting a seasonal influenza vaccine from a healthcare provider.\n",
    "\n",
    "# Return a tuple of  -- (2.5, 0.1)\n",
    "# - the average number of influenza vaccines for those children we know received breastmilk as a child\n",
    "# - and those who know did not."
   ]
  },
  {
   "cell_type": "code",
   "execution_count": 10,
   "id": "76348dac",
   "metadata": {},
   "outputs": [],
   "source": [
    "def average_influenza_doses():\n",
    "  breastmilk = df[(df.CBF_01 == 1)]\n",
    "  avg_vaccine_breast_milk = breastmilk.P_NUMFLU.dropna().mean()\n",
    "\n",
    "  no_breastmilk = df[~(df.CBF_01 == 1)]\n",
    "  avg_vaccine_no_breast_milk = no_breastmilk.P_NUMFLU.dropna().mean()\n",
    "\n",
    "  return avg_vaccine_breast_milk, avg_vaccine_no_breast_milk"
   ]
  },
  {
   "cell_type": "code",
   "execution_count": 11,
   "id": "e7e11021",
   "metadata": {},
   "outputs": [
    {
     "data": {
      "text/plain": [
       "(1.8799187420058687, 1.591087169441724)"
      ]
     },
     "execution_count": 11,
     "metadata": {},
     "output_type": "execute_result"
    }
   ],
   "source": [
    "average_influenza_doses()"
   ]
  },
  {
   "cell_type": "code",
   "execution_count": 12,
   "id": "fd5a6980",
   "metadata": {},
   "outputs": [],
   "source": [
    "assert len(average_influenza_doses())==2, \"Return two values in a tuple, the first for yes and the second for no.\""
   ]
  },
  {
   "cell_type": "code",
   "execution_count": null,
   "id": "e02f8196",
   "metadata": {},
   "outputs": [],
   "source": []
  },
  {
   "cell_type": "code",
   "execution_count": 13,
   "id": "5fa72f23",
   "metadata": {},
   "outputs": [
    {
     "data": {
      "text/plain": [
       "'\\n{\"male\":0.2,\\n \"female\":0.4}\\n'"
      ]
     },
     "execution_count": 13,
     "metadata": {},
     "output_type": "execute_result"
    }
   ],
   "source": [
    "#### Question 3 ####\n",
    "# see if there is any evidence of a link between:\n",
    "# - vaccine effectiveness\n",
    "# - and sex of the child\n",
    "# - Calculate:\n",
    "#    - the ratio of the number of children who contracted chickenpox but were vaccinated against it (at least one varicella dose) \n",
    "#    - versus those who were vaccinated but did not contract chicken pox. Return results by sex.\n",
    "\"\"\"\n",
    "{\"male\":0.2,\n",
    " \"female\":0.4}\n",
    "\"\"\""
   ]
  },
  {
   "cell_type": "code",
   "execution_count": 14,
   "id": "fef048a3",
   "metadata": {},
   "outputs": [],
   "source": [
    "def chickenpox_by_sex():\n",
    "  var = ['SEX', 'HAD_CPOX', 'P_NUMVRC']\n",
    "  tmp = df[var].dropna()\n",
    "\n",
    "  male_cp_vax = tmp[(tmp.P_NUMVRC >= 1) & (tmp.HAD_CPOX == 1) & (tmp.SEX == 1)]\n",
    "  female_cp_vax = tmp[(tmp.P_NUMVRC >= 1) & (tmp.HAD_CPOX == 1) & (tmp.SEX == 2)]\n",
    "\n",
    "  male_no_cp_vax = tmp[(tmp.P_NUMVRC >= 1) & (tmp.HAD_CPOX == 2) & (tmp.SEX == 1)]\n",
    "  female_no_cp_vax = tmp[(tmp.P_NUMVRC >= 1) & (tmp.HAD_CPOX == 2) & (tmp.SEX == 2)]\n",
    "  \n",
    "  return {\n",
    "    'female': len(female_cp_vax)/len(female_no_cp_vax),\n",
    "    'male':len(male_cp_vax)/len(male_no_cp_vax)\n",
    "  }"
   ]
  },
  {
   "cell_type": "code",
   "execution_count": 15,
   "id": "fa2bad51",
   "metadata": {},
   "outputs": [
    {
     "data": {
      "text/plain": [
       "{'female': 0.0077918259335489565, 'male': 0.009675583380762664}"
      ]
     },
     "execution_count": 15,
     "metadata": {},
     "output_type": "execute_result"
    }
   ],
   "source": [
    "chickenpox_by_sex()"
   ]
  },
  {
   "cell_type": "code",
   "execution_count": 16,
   "id": "b5c014cd",
   "metadata": {},
   "outputs": [],
   "source": [
    "assert len(chickenpox_by_sex())==2, \"Return a dictionary with two items, the first for males and the second for females.\""
   ]
  },
  {
   "cell_type": "code",
   "execution_count": null,
   "id": "14640fb1",
   "metadata": {},
   "outputs": [],
   "source": []
  },
  {
   "cell_type": "code",
   "execution_count": 17,
   "id": "be72a88b",
   "metadata": {},
   "outputs": [],
   "source": [
    "##### Question 4 #####\n",
    "# correlation between:\n",
    "# - having had the chicken pox\n",
    "# - and the number of chickenpox vaccine doses given"
   ]
  },
  {
   "cell_type": "code",
   "execution_count": 18,
   "id": "45c20764",
   "metadata": {},
   "outputs": [],
   "source": [
    "def corr_chickenpox():\n",
    "  var = ['HAD_CPOX', 'P_NUMVRC']\n",
    "  tmp = df[var]\n",
    "  tmp = tmp[(tmp.HAD_CPOX < 3) & ~(tmp.P_NUMVRC.isna())]\n",
    "  corr, pval = stats.pearsonr(tmp.HAD_CPOX, tmp.P_NUMVRC)\n",
    "  return corr"
   ]
  },
  {
   "cell_type": "code",
   "execution_count": 19,
   "id": "07905dbb",
   "metadata": {},
   "outputs": [
    {
     "data": {
      "text/plain": [
       "0.07044873460148016"
      ]
     },
     "execution_count": 19,
     "metadata": {},
     "output_type": "execute_result"
    }
   ],
   "source": [
    "corr_chickenpox()"
   ]
  },
  {
   "cell_type": "code",
   "execution_count": 20,
   "id": "85048475",
   "metadata": {},
   "outputs": [],
   "source": [
    "assert -1<=corr_chickenpox()<=1, \"You must return a float number between -1.0 and 1.0.\""
   ]
  },
  {
   "cell_type": "code",
   "execution_count": null,
   "id": "b9480c58",
   "metadata": {},
   "outputs": [],
   "source": []
  },
  {
   "cell_type": "code",
   "execution_count": null,
   "id": "ff8c31bf",
   "metadata": {},
   "outputs": [],
   "source": []
  }
 ],
 "metadata": {
  "kernelspec": {
   "display_name": "Python 3",
   "language": "python",
   "name": "python3"
  },
  "language_info": {
   "codemirror_mode": {
    "name": "ipython",
    "version": 3
   },
   "file_extension": ".py",
   "mimetype": "text/x-python",
   "name": "python",
   "nbconvert_exporter": "python",
   "pygments_lexer": "ipython3",
   "version": "3.10.2"
  }
 },
 "nbformat": 4,
 "nbformat_minor": 5
}
