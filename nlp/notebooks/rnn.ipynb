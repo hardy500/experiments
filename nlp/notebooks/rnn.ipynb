{
 "cells": [
  {
   "cell_type": "code",
   "execution_count": null,
   "id": "3253de9c",
   "metadata": {
    "_cell_guid": "b1076dfc-b9ad-4769-8c92-a6c4dae69d19",
    "_uuid": "8f2839f25d086af736a60e9eeb907d3b93b6e0e5",
    "papermill": {
     "duration": 0.004813,
     "end_time": "2023-04-22T13:35:23.473328",
     "exception": false,
     "start_time": "2023-04-22T13:35:23.468515",
     "status": "completed"
    },
    "tags": []
   },
   "outputs": [],
   "source": []
  },
  {
   "cell_type": "code",
   "execution_count": 1,
   "id": "9d0977aa",
   "metadata": {
    "execution": {
     "iopub.execute_input": "2023-04-22T13:35:23.483898Z",
     "iopub.status.busy": "2023-04-22T13:35:23.483088Z",
     "iopub.status.idle": "2023-04-22T13:36:24.955673Z",
     "shell.execute_reply": "2023-04-22T13:36:24.954606Z"
    },
    "papermill": {
     "duration": 61.485111,
     "end_time": "2023-04-22T13:36:24.962407",
     "exception": false,
     "start_time": "2023-04-22T13:35:23.477296",
     "status": "completed"
    },
    "tags": []
   },
   "outputs": [
    {
     "data": {
      "image/png": "[encoded data removed]",
      "text/plain": [
       "<Figure size 640x480 with 1 Axes>"
      ]
     },
     "metadata": {},
     "output_type": "display_data"
    }
   ],
   "source": [
    "#%%\n",
    "import numpy as np\n",
    "import pandas as pd\n",
    "import torch\n",
    "from torch import nn\n",
    "import torch.nn.functional as F\n",
    "from nltk.corpus import stopwords\n",
    "from collections import Counter\n",
    "import string\n",
    "import re\n",
    "import seaborn as sns\n",
    "from tqdm import tqdm\n",
    "import matplotlib.pyplot as plt\n",
    "from torch.utils.data import TensorDataset, DataLoader\n",
    "from sklearn.model_selection import train_test_split\n",
    "\n",
    "device = 'cuda' if torch.cuda.is_available() else 'cpu'\n",
    "#%%\n",
    "df = pd.read_csv('/Users/toto/fun/experiments/nlp/rnn/data/imdb.csv')\n",
    "\n",
    "# Splitting to train and test data\n",
    "x, y = df['review'].values, df['sentiment'].values\n",
    "x_train, x_test, y_train, y_test = train_test_split(x, y, stratify=y)\n",
    "\n",
    "#%%\n",
    "\n",
    "# Analysis sentiment\n",
    "\n",
    "dd = pd.Series(y_train).value_counts()\n",
    "sns.barplot(x=np.array(['negative', 'positive']), y=dd);\n",
    "\n",
    "#%%\n",
    "\n",
    "# Tokenization\n",
    "\n",
    "def preprocess_string(s):\n",
    "  # Remove all non-word characters (everything except numbers and letters)\n",
    "  s = re.sub(r\"[^\\w\\s]\", '', s)\n",
    "  # Replace all runs of whitespaces with no space\n",
    "  s = re.sub(r\"\\s+\", '', s)\n",
    "  # replace digits with no space\n",
    "  s = re.sub(r\"\\d\", '', s)\n",
    "  return s\n",
    "\n",
    "def finalize(data, vocab):\n",
    "  final_list = [[vocab[preprocess_string(word)]\n",
    "    for word in sen.lower().split()\n",
    "    if preprocess_string(word) in vocab.keys()] for sen in data]\n",
    "\n",
    "  return final_list\n",
    "\n",
    "def tokenize(x_train, y_train, x_test, y_test):\n",
    "  sw = set(stopwords.words('english'))\n",
    "  word_list = [word for sen in x_train for word in sen.lower().split() if word not in sw and word != '']\n",
    "\n",
    "  corpus = Counter(word_list)\n",
    "  # sort by most common words; pick 1000 most common\n",
    "  corpus_ = sorted(corpus, key=corpus.get, reverse=True)[:1000]\n",
    "\n",
    "  vocab = {w:i+1 for i, w in enumerate(corpus_)}\n",
    "\n",
    "  final_list_train = finalize(x_train, vocab)\n",
    "  final_list_test = finalize(x_test, vocab)\n",
    "\n",
    "  encoded_train = np.array([1 if y == 'positive' else 0 for y in y_train])\n",
    "  encoded_test = np.array([1 if y == 'positive' else 0 for y in y_test])\n",
    "  return final_list_train, encoded_train, final_list_test, encoded_test, vocab\n",
    "\n",
    "#%%\n",
    "# padding each of the sequences to max length\n",
    "def padding(sen, seq_len):\n",
    "  features = np.zeros((len(sen), seq_len), dtype=int)\n",
    "  for i, review in enumerate(sen):\n",
    "    if len(review) != 0:\n",
    "      features[i, -len(review):] = np.array(review)[:seq_len]\n",
    "  return features\n",
    "\n",
    "#we have very less number of reviews with length > 500.\n",
    "#So we will consideronly those below it.\n",
    "def create_loader(x_train, y_train, x_test, y_test, batch_size=50):\n",
    "  x_train, y_train, x_test, y_test, vocab = tokenize(x_train, y_train, x_test, y_test)\n",
    "  x_train_pad = padding(x_train, 500)\n",
    "  x_test_pad = padding(x_test, 500)\n",
    "\n",
    "  # Batching and loading as tensor\n",
    "  train_data = TensorDataset(torch.from_numpy(x_train_pad), torch.from_numpy(y_train))\n",
    "  test_data = TensorDataset(torch.from_numpy(x_test_pad), torch.from_numpy(y_test))\n",
    "\n",
    "  train_loader = DataLoader(train_data, shuffle=True, batch_size=batch_size)\n",
    "  test_loader = DataLoader(test_data, shuffle=False, batch_size=batch_size)\n",
    "  return train_loader, test_loader, vocab\n",
    "\n",
    "#%%\n",
    "\n",
    "class RNN(nn.Module):\n",
    "  def __init__(\n",
    "      self, n_layers,\n",
    "      vocab_size, hidden_dim,\n",
    "      embed_dim, out_dim,\n",
    "      device, drop_prob=0.5):\n",
    "    super().__init__()\n",
    "\n",
    "    self.out_dim = out_dim\n",
    "    self.hidden_dim = hidden_dim\n",
    "    self.n_layers = n_layers\n",
    "\n",
    "    self.embedding = nn.Embedding(vocab_size, embed_dim)\n",
    "\n",
    "    self.lstm = nn.LSTM(\n",
    "      input_size=embed_dim,\n",
    "      hidden_size=self.hidden_dim,\n",
    "      num_layers=n_layers,\n",
    "      batch_first=True\n",
    "    )\n",
    "\n",
    "    self.dropout = nn.Dropout(drop_prob)\n",
    "    self.fc = nn.Linear(self.hidden_dim, out_dim)\n",
    "    self.sig = nn.Sigmoid()\n",
    "\n",
    "  def forward(self, x, hidden):\n",
    "    batch_size = x.size(0)\n",
    "    embeds = self.embedding(x)\n",
    "    lstm_out, hidden = self.lstm(embeds, hidden)\n",
    "    lstm_out = lstm_out.contiguous().view(-1, self.hidden_dim)\n",
    "\n",
    "    out = self.dropout(lstm_out)\n",
    "    out = self.fc(out)\n",
    "\n",
    "    sig_out = self.sig(out).view(batch_size, -1)\n",
    "    sig_out = sig_out[:,-1] # get last batch of labels, since it contain all the info\n",
    "\n",
    "    return sig_out, hidden\n",
    "\n",
    "  def init_hidden(self, batch_size):\n",
    "    h0 = torch.zeros((self.n_layers, batch_size, self.hidden_dim)).to(device)\n",
    "    c0 = torch.zeros((self.n_layers, batch_size, self.hidden_dim)).to(device)\n",
    "    hidden = (h0, c0)\n",
    "    return hidden\n",
    "\n",
    "  def predict_text(self, text):\n",
    "    word_seq = np.array([vocab[preprocess_string(word)] for word in text.split() \n",
    "                         if preprocess_string(word) in vocab.keys()])\n",
    "    word_seq = np.expand_dims(word_seq,axis=0)\n",
    "    pad =  torch.from_numpy(padding(word_seq,500))\n",
    "    inputs = pad.to(device)\n",
    "    batch_size = 1\n",
    "    h = model.init_hidden(batch_size)\n",
    "    h = tuple([each.data for each in h])\n",
    "    output, h = model(inputs, h)\n",
    "    return(output.item())\n",
    "\n",
    "  def predict(self, index, df):\n",
    "    index = 1\n",
    "    print(df['review'][index])\n",
    "    print('='*70)\n",
    "    print(f'Actual sentiment is  : {df[\"sentiment\"][index]}')\n",
    "    print('='*70)\n",
    "    pro = self.predict_text(df['review'][index])\n",
    "    status = \"positive\" if pro > 0.5 else \"negative\"\n",
    "    pro = (1 - pro) if status == \"negative\" else pro\n",
    "    print(f'Predicted sentiment is {status} with a probability of {pro}')\n",
    "\n",
    "#%%\n",
    "train_loader, test_loader, vocab  = create_loader(x_train, y_train, x_test, y_test, batch_size=500)"
   ]
  },
  {
   "cell_type": "code",
   "execution_count": 2,
   "id": "cdb22ca1",
   "metadata": {
    "execution": {
     "iopub.execute_input": "2023-04-22T13:36:24.972081Z",
     "iopub.status.busy": "2023-04-22T13:36:24.971758Z",
     "iopub.status.idle": "2023-04-22T13:38:24.465430Z",
     "shell.execute_reply": "2023-04-22T13:38:24.464291Z"
    },
    "papermill": {
     "duration": 119.501278,
     "end_time": "2023-04-22T13:38:24.467729",
     "exception": false,
     "start_time": "2023-04-22T13:36:24.966451",
     "status": "completed"
    },
    "tags": []
   },
   "outputs": [
    {
     "name": "stderr",
     "output_type": "stream",
     "text": [
      "100%|██████████| 5/5 [01:55<00:00, 23.12s/it]\n"
     ]
    }
   ],
   "source": [
    "#%%\n",
    "n_layers = 2\n",
    "vocab_size = len(vocab) + 1 # extra one for padding\n",
    "embed_dim = 64\n",
    "out_dim = 1\n",
    "hidden_dim = 256\n",
    "\n",
    "model = RNN(n_layers, vocab_size, hidden_dim, embed_dim, out_dim, device, drop_prob=0.5)\n",
    "loss_fn = nn.BCELoss()\n",
    "optimizer = torch.optim.Adam(model.parameters(), lr=0.001)\n",
    "\n",
    "def acc(pred, y):\n",
    "  pred = torch.round(pred.squeeze())\n",
    "  return torch.sum(pred == y.squeeze()).item()\n",
    "\n",
    "clip, epochs = 5, 5\n",
    "valid_loss_min = np.Inf\n",
    "\n",
    "epoch_tr_loss, epoch_ts_loss = [], []\n",
    "\n",
    "model.to(device)\n",
    "for epoch in tqdm(range(epochs)):\n",
    "  train_losses = []\n",
    "  model.train()\n",
    "\n",
    "  h = model.init_hidden(500)\n",
    "  for x, y in train_loader:\n",
    "    x, y = x.to(device), y.to(device)\n",
    "    h = tuple([i.data for i in h])\n",
    "\n",
    "    out, h = model(x, h)\n",
    "    loss = loss_fn(out, y.float())\n",
    "    train_losses.append(loss.item())\n",
    "\n",
    "    optimizer.zero_grad()\n",
    "    loss.backward()\n",
    "    # help prevent exploding gradient problem\n",
    "    nn.utils.clip_grad_norm_(model.parameters(), clip)\n",
    "    optimizer.step()\n",
    "    \n",
    "  model.eval()\n",
    "  with torch.inference_mode():\n",
    "    test_losses = []\n",
    "    h = model.init_hidden(500)\n",
    "    for x, y in test_loader:\n",
    "      x, y = x.to(device), y.to(device)\n",
    "      h = tuple([i.data for i in h])\n",
    "      \n",
    "      out, h = model(x, h)\n",
    "      loss = loss_fn(out, y.float())\n",
    "      test_losses.append(loss.item())\n",
    "    \n",
    "  epoch_tr_loss.append(np.mean(train_losses))\n",
    "  epoch_ts_loss.append(np.mean(test_losses))"
   ]
  },
  {
   "cell_type": "code",
   "execution_count": 3,
   "id": "b8133b16",
   "metadata": {
    "execution": {
     "iopub.execute_input": "2023-04-22T13:38:24.478369Z",
     "iopub.status.busy": "2023-04-22T13:38:24.478053Z",
     "iopub.status.idle": "2023-04-22T13:38:24.688925Z",
     "shell.execute_reply": "2023-04-22T13:38:24.687591Z"
    },
    "papermill": {
     "duration": 0.218989,
     "end_time": "2023-04-22T13:38:24.691503",
     "exception": false,
     "start_time": "2023-04-22T13:38:24.472514",
     "status": "completed"
    },
    "tags": []
   },
   "outputs": [
    {
     "data": {
      "image/png": "[encoded data removed]",
      "text/plain": [
       "<Figure size 640x480 with 1 Axes>"
      ]
     },
     "metadata": {},
     "output_type": "display_data"
    }
   ],
   "source": [
    "plt.plot(np.arange(len(epoch_tr_loss)), epoch_tr_loss);\n",
    "plt.plot(np.arange(len(epoch_ts_loss)), epoch_ts_loss);"
   ]
  },
  {
   "cell_type": "code",
   "execution_count": 4,
   "id": "37e3caec",
   "metadata": {
    "execution": {
     "iopub.execute_input": "2023-04-22T13:38:24.702712Z",
     "iopub.status.busy": "2023-04-22T13:38:24.702371Z",
     "iopub.status.idle": "2023-04-22T13:38:24.723222Z",
     "shell.execute_reply": "2023-04-22T13:38:24.721911Z"
    },
    "papermill": {
     "duration": 0.028746,
     "end_time": "2023-04-22T13:38:24.725270",
     "exception": false,
     "start_time": "2023-04-22T13:38:24.696524",
     "status": "completed"
    },
    "tags": []
   },
   "outputs": [
    {
     "name": "stdout",
     "output_type": "stream",
     "text": [
      "A wonderful little production. <br /><br />The filming technique is very unassuming- very old-time-BBC fashion and gives a comforting, and sometimes discomforting, sense of realism to the entire piece. <br /><br />The actors are extremely well chosen- Michael Sheen not only \"has got all the polari\" but he has all the voices down pat too! You can truly see the seamless editing guided by the references to Williams' diary entries, not only is it well worth the watching but it is a terrificly written and performed piece. A masterful production about one of the great master's of comedy and his life. <br /><br />The realism really comes home with the little things: the fantasy of the guard which, rather than use the traditional 'dream' techniques remains solid then disappears. It plays on our knowledge and our senses, particularly with the scenes concerning Orton and Halliwell and the sets (particularly of their flat with Halliwell's murals decorating every surface) are terribly well done.\n",
      "======================================================================\n",
      "Actual sentiment is  : positive\n",
      "======================================================================\n",
      "Predicted sentiment is positive with a probability of 0.9806416630744934\n"
     ]
    }
   ],
   "source": [
    "model.predict(1, df)"
   ]
  },
  {
   "cell_type": "code",
   "execution_count": null,
   "id": "f0ec9bb4",
   "metadata": {
    "papermill": {
     "duration": 0.004667,
     "end_time": "2023-04-22T13:38:24.735216",
     "exception": false,
     "start_time": "2023-04-22T13:38:24.730549",
     "status": "completed"
    },
    "tags": []
   },
   "outputs": [],
   "source": []
  },
  {
   "cell_type": "code",
   "execution_count": null,
   "id": "aa463481",
   "metadata": {
    "papermill": {
     "duration": 0.005237,
     "end_time": "2023-04-22T13:38:24.745195",
     "exception": false,
     "start_time": "2023-04-22T13:38:24.739958",
     "status": "completed"
    },
    "tags": []
   },
   "outputs": [],
   "source": []
  },
  {
   "cell_type": "code",
   "execution_count": null,
   "id": "cb3e1afc",
   "metadata": {
    "papermill": {
     "duration": 0.004609,
     "end_time": "2023-04-22T13:38:24.754747",
     "exception": false,
     "start_time": "2023-04-22T13:38:24.750138",
     "status": "completed"
    },
    "tags": []
   },
   "outputs": [],
   "source": []
  },
  {
   "cell_type": "code",
   "execution_count": null,
   "id": "5649d3a3",
   "metadata": {
    "papermill": {
     "duration": 0.004562,
     "end_time": "2023-04-22T13:38:24.764005",
     "exception": false,
     "start_time": "2023-04-22T13:38:24.759443",
     "status": "completed"
    },
    "tags": []
   },
   "outputs": [],
   "source": []
  },
  {
   "cell_type": "code",
   "execution_count": null,
   "id": "f0d90896",
   "metadata": {
    "papermill": {
     "duration": 0.004754,
     "end_time": "2023-04-22T13:38:24.773663",
     "exception": false,
     "start_time": "2023-04-22T13:38:24.768909",
     "status": "completed"
    },
    "tags": []
   },
   "outputs": [],
   "source": []
  },
  {
   "cell_type": "code",
   "execution_count": null,
   "id": "7f9bd219",
   "metadata": {
    "papermill": {
     "duration": 0.004591,
     "end_time": "2023-04-22T13:38:24.782945",
     "exception": false,
     "start_time": "2023-04-22T13:38:24.778354",
     "status": "completed"
    },
    "tags": []
   },
   "outputs": [],
   "source": []
  },
  {
   "cell_type": "code",
   "execution_count": null,
   "id": "dd54a29c",
   "metadata": {
    "papermill": {
     "duration": 0.004797,
     "end_time": "2023-04-22T13:38:24.792479",
     "exception": false,
     "start_time": "2023-04-22T13:38:24.787682",
     "status": "completed"
    },
    "tags": []
   },
   "outputs": [],
   "source": []
  },
  {
   "cell_type": "code",
   "execution_count": null,
   "id": "273c15ca",
   "metadata": {
    "papermill": {
     "duration": 0.004526,
     "end_time": "2023-04-22T13:38:24.801824",
     "exception": false,
     "start_time": "2023-04-22T13:38:24.797298",
     "status": "completed"
    },
    "tags": []
   },
   "outputs": [],
   "source": []
  },
  {
   "cell_type": "code",
   "execution_count": null,
   "id": "7b7781a5",
   "metadata": {
    "papermill": {
     "duration": 0.00554,
     "end_time": "2023-04-22T13:38:24.812106",
     "exception": false,
     "start_time": "2023-04-22T13:38:24.806566",
     "status": "completed"
    },
    "tags": []
   },
   "outputs": [],
   "source": []
  },
  {
   "cell_type": "code",
   "execution_count": null,
   "id": "c04c21cf",
   "metadata": {
    "papermill": {
     "duration": 0.004512,
     "end_time": "2023-04-22T13:38:24.821344",
     "exception": false,
     "start_time": "2023-04-22T13:38:24.816832",
     "status": "completed"
    },
    "tags": []
   },
   "outputs": [],
   "source": []
  },
  {
   "cell_type": "code",
   "execution_count": null,
   "id": "d34fcf3e",
   "metadata": {
    "papermill": {
     "duration": 0.004768,
     "end_time": "2023-04-22T13:38:24.830845",
     "exception": false,
     "start_time": "2023-04-22T13:38:24.826077",
     "status": "completed"
    },
    "tags": []
   },
   "outputs": [],
   "source": []
  },
  {
   "cell_type": "code",
   "execution_count": null,
   "id": "1b1c6426",
   "metadata": {
    "papermill": {
     "duration": 0.004898,
     "end_time": "2023-04-22T13:38:24.840436",
     "exception": false,
     "start_time": "2023-04-22T13:38:24.835538",
     "status": "completed"
    },
    "tags": []
   },
   "outputs": [],
   "source": []
  },
  {
   "cell_type": "code",
   "execution_count": null,
   "id": "b959b5bc",
   "metadata": {
    "papermill": {
     "duration": 0.004794,
     "end_time": "2023-04-22T13:38:24.850637",
     "exception": false,
     "start_time": "2023-04-22T13:38:24.845843",
     "status": "completed"
    },
    "tags": []
   },
   "outputs": [],
   "source": []
  },
  {
   "cell_type": "code",
   "execution_count": null,
   "id": "fe522608",
   "metadata": {
    "papermill": {
     "duration": 0.004986,
     "end_time": "2023-04-22T13:38:24.860336",
     "exception": false,
     "start_time": "2023-04-22T13:38:24.855350",
     "status": "completed"
    },
    "tags": []
   },
   "outputs": [],
   "source": []
  },
  {
   "cell_type": "code",
   "execution_count": null,
   "id": "335c0cdf",
   "metadata": {
    "papermill": {
     "duration": 0.005011,
     "end_time": "2023-04-22T13:38:24.870099",
     "exception": false,
     "start_time": "2023-04-22T13:38:24.865088",
     "status": "completed"
    },
    "tags": []
   },
   "outputs": [],
   "source": []
  }
 ],
 "metadata": {
  "kernelspec": {
   "display_name": "Python 3",
   "language": "python",
   "name": "python3"
  },
  "language_info": {
   "codemirror_mode": {
    "name": "ipython",
    "version": 3
   },
   "file_extension": ".py",
   "mimetype": "text/x-python",
   "name": "python",
   "nbconvert_exporter": "python",
   "pygments_lexer": "ipython3",
   "version": "3.7.12"
  },
  "papermill": {
   "default_parameters": {},
   "duration": 192.780708,
   "end_time": "2023-04-22T13:38:26.702230",
   "environment_variables": {},
   "exception": null,
   "input_path": "__notebook__.ipynb",
   "output_path": "__notebook__.ipynb",
   "parameters": {},
   "start_time": "2023-04-22T13:35:13.921522",
   "version": "2.4.0"
  }
 },
 "nbformat": 4,
 "nbformat_minor": 5
}
